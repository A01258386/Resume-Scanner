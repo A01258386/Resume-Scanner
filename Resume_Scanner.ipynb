{
 "cells": [
  {
   "cell_type": "code",
   "execution_count": 14,
   "metadata": {},
   "outputs": [],
   "source": [
    "#Description: Create a program to see how similar a resume is to a job posting."
   ]
  },
  {
   "cell_type": "code",
   "execution_count": 15,
   "metadata": {},
   "outputs": [
    {
     "name": "stdout",
     "output_type": "stream",
     "text": [
      "Requirement already satisfied: docx2txt in /Library/Frameworks/Python.framework/Versions/3.9/lib/python3.9/site-packages (0.8)\n",
      "\u001b[33mWARNING: You are using pip version 21.2.3; however, version 21.3.1 is available.\n",
      "You should consider upgrading via the '/usr/local/bin/python3 -m pip install --upgrade pip' command.\u001b[0m\n",
      "Requirement already satisfied: sklearn in /Library/Frameworks/Python.framework/Versions/3.9/lib/python3.9/site-packages (0.0)\n",
      "Requirement already satisfied: scikit-learn in /Library/Frameworks/Python.framework/Versions/3.9/lib/python3.9/site-packages (from sklearn) (1.0.2)\n",
      "Requirement already satisfied: numpy>=1.14.6 in /Library/Frameworks/Python.framework/Versions/3.9/lib/python3.9/site-packages (from scikit-learn->sklearn) (1.22.0)\n",
      "Requirement already satisfied: scipy>=1.1.0 in /Library/Frameworks/Python.framework/Versions/3.9/lib/python3.9/site-packages (from scikit-learn->sklearn) (1.7.3)\n",
      "Requirement already satisfied: joblib>=0.11 in /Library/Frameworks/Python.framework/Versions/3.9/lib/python3.9/site-packages (from scikit-learn->sklearn) (1.1.0)\n",
      "Requirement already satisfied: threadpoolctl>=2.0.0 in /Library/Frameworks/Python.framework/Versions/3.9/lib/python3.9/site-packages (from scikit-learn->sklearn) (3.0.0)\n",
      "\u001b[33mWARNING: You are using pip version 21.2.3; however, version 21.3.1 is available.\n",
      "You should consider upgrading via the '/usr/local/bin/python3 -m pip install --upgrade pip' command.\u001b[0m\n"
     ]
    }
   ],
   "source": [
    "#Install the docx2txt package\n",
    "import sys\n",
    "!{sys.executable} -m pip install docx2txt\n",
    "!{sys.executable} -m pip install sklearn\n"
   ]
  },
  {
   "cell_type": "code",
   "execution_count": 16,
   "metadata": {},
   "outputs": [],
   "source": [
    "#Import the docx2txt package\n",
    "import docx2txt"
   ]
  },
  {
   "cell_type": "code",
   "execution_count": 17,
   "metadata": {},
   "outputs": [
    {
     "name": "stdout",
     "output_type": "stream",
     "text": [
      "Gokce Gokmen (she,her) \n",
      "\n",
      "ggokmen@my.bcit.ca \n",
      "\n",
      "(604) 719-8373 \n",
      "\n",
      "https://github.com/A01258386 \n",
      "\n",
      "Gokce Gokmen Portfolio: \n",
      "\n",
      "https://tinyurl.com/certificationportfolio \n",
      "\n",
      "Gokce Gokmen LinkedIn \n",
      "\n",
      "https://tinyurl.com/GokceGokmenLinkedin \n",
      "\n",
      "PROFESSIONAL SUMMARY \n",
      "\n",
      "Enthusiastic Artificial Intelligence Programmer, scholarship winner from “Artificial Intelligence network of British Columbia (AInBC)”. Substantial experience in scripting and evaluating machine learning (ML) processes, conducting statistical analysis to resolve dataset problems and enhancing accuracy of software’s predictive capabilities. \n",
      "\n",
      "\n",
      "\n",
      ". \n",
      "\n",
      "EDUCATION \n",
      "\n",
      "Computer Information Technology \n",
      "\n",
      "British Columbia Institute of \n",
      "\n",
      "Technology, Burnaby, BC \n",
      "\n",
      "Diploma \n",
      "\n",
      "Graduation: Expected in 2023 \n",
      "\n",
      "Mathematics Teaching \n",
      "\n",
      "Dokuz Eylul University,Turkey Bachelor’s degree \n",
      "\n",
      "Graduation: Graduated in 2017 \n",
      "\n",
      "SKILLS \n",
      "\n",
      "Computing Skills \n",
      "\n",
      "  R, Python, BashScript, NodejS \n",
      "\n",
      "  Cloud Computing, COLab, \n",
      "\n",
      "  Jupyter Notebooks \n",
      "\n",
      "  Linux distros such Solus, Kali, \n",
      "\n",
      "Vagrant, cloud VMs \n",
      "\n",
      "  Oracle, MySQL, MongoDB \n",
      "\n",
      "  Agile Development \n",
      "\n",
      "Artificial Intelligence Skills \n",
      "\n",
      "  Deep Learning with TF, Keras, Pytorch, Numpy, Scipy, Scikit- learn, Pandas, OpenCV \n",
      "\n",
      "  Speech Recognition with nltk \n",
      "\n",
      "  PowerBI, Tableau, Kaggle \n",
      "\n",
      "PROJECTS \n",
      "\n",
      "Philosopher Chatbot Winter 2022 \n",
      "\n",
      " Utilized nltk for natural language processing(NLP) and newspaper3k for article scraping on Jupyter Notebook to create an AI chatbot \n",
      "\n",
      "gives reasonable answers to questions related belief. \n",
      "\n",
      "Face Detection Computer Vision Fall 2021 \n",
      "\n",
      " Created a program to detect face and eyes in real time with OpenCV2 and XML classifiers. \n",
      "\n",
      "Audio-to-text Speech Recognition Fall 2021 \n",
      "\n",
      " Created a web application with Flask and speech_recognition which takes a wav file and transcribes into text. \n",
      "\n",
      "Post-COVID Stock Market Prediction Summer 2021 \n",
      "\n",
      "Created a ML model for post-covid stock market predictions with LSTM method, using of pandas, tensorflow, keras, yfinance, matplotlib, numpy, twarc, seaborn,nltk and TextBlob libraries. Preprocessed dataset and conducted sentiment analysis on. \n",
      "\n",
      "WORK HISTORY \n",
      "\n",
      "Google - Developer Student Clubs Leader, Volunteer \n",
      "\n",
      "Burnaby, BC 08/2019- Current \n",
      "\n",
      "On behalf of Google, organize events, technical workshops, competitions And hackathons for the school community. \n",
      "\n",
      ",\n"
     ]
    }
   ],
   "source": [
    "#Store the resume in a variable\n",
    "resume = docx2txt.process(\"python_resume.docx\")\n",
    "\n",
    "#Print the resume\n",
    "print(resume)\n"
   ]
  },
  {
   "cell_type": "code",
   "execution_count": 18,
   "metadata": {},
   "outputs": [
    {
     "name": "stdout",
     "output_type": "stream",
     "text": [
      "May 2022 - Data Analytics Co-op\n",
      "\n",
      "Location:  \n",
      "\n",
      "Sparwood, British Columbia, CA Elkford, British Columbia, CA Sparwood, British Columbia, CA Elkford, British Columbia, CA Sparwood, British Columbia, CA\n",
      "\n",
      "Start Date: May 2022\n",
      "\n",
      "Duration: 8 – 12 months\n",
      "\n",
      "Location: Teck Resources, Elk Valley\n",
      "\n",
      "\n",
      "\n",
      " \n",
      "\n",
      "Why consider Teck Resources Ltd. for your co-op Placement?\n",
      "\n",
      " \n",
      "\n",
      "Teck hires more than 150 co-op students each year to work at our various Canadian operations. Teck has been named as one of Canada’s Top 100 Employers by Mediacorp Canada’s Top Employers program for the past five years and was included in the Forbes World’s Best Employers 2021 list and Canada's Top Employers for Young People 2021. In 2021, Teck was named to the Dow Jones Sustainability World Index (DJSI) for the 12th consecutive year, indicating that Teck’s sustainability practices rank in the top 10 percent of the world’s 2,500 largest public companies.\n",
      "\n",
      " \n",
      "\n",
      "Innovate with Teck\n",
      "\n",
      " \n",
      "\n",
      "Digital technologies are redefining our industry and contributing to improvements in every step of the mining process. We improve our efficiency, safety, sustainability and growth by putting smarter ideas to work and crafting advancements in our technology and our practice. At Teck, we embrace new ideas, and employ them. Teck fosters a culture where employees are encouraged to bring ideas forward and implement technologies that can help make us a better company.\n",
      "\n",
      " \n",
      "\n",
      "Professional benefits of working as a co-op with Teck Resources Ltd:\n",
      "\n",
      "Our values guide every decision we make as a company and as individual employees. Teck is led by our values of safety, sustainability, integrity, respect, excellence, and courage\n",
      "\n",
      "The opportunity to work on exciting projects alongside a team of professionals who are specialists in their respective fields, you will experience a combination of projects in the field as well as in the office\n",
      "\n",
      "Competitive salary for our co-ops as well as assistance with travel costs and co-op fees\n",
      "\n",
      "Make an impression! Successful co-ops with Teck are given first consideration for professional positions upon graduation\n",
      "\n",
      " \n",
      "\n",
      "Requirements\n",
      "\n",
      "Working towards an Undergraduate degree in Engineering (Computer/Software, Mechanical/Electrical or Physics Engineering etc.), or equivalent degree with experience and/or courses in data analytics\n",
      "\n",
      "Excellent interpersonal skills including the ability to present information and assist with project planning, while communicating clearly to all levels of the organization\n",
      "\n",
      "Comfortable working in a dynamic work environment and able to work on site, and drive on site in various weather conditions\n",
      "\n",
      "Responsibilities\n",
      "\n",
      "Participation in the health and safety programs of Teck to ensure that everyone on site goes home safe and healthy every day\n",
      "\n",
      "Assist with analyzing site and business unit performance with the goal of identifying opportunities to elevate operating and financial targets\n",
      "\n",
      "Support site Operating Excellence and/or Race 21 teams with reporting and providing data analytics to support projects\n",
      "\n",
      "Requires some field work including data collection and project immersion\n",
      "\n",
      "Supporting technology and technical projects; ideal candidate would have an interest and experience with Python and ability to troubleshoot code, Power BI and SQL Query\n",
      "\n",
      " \n",
      "\n",
      "All students will be required to complete pre-employment drug testing prior to commencing work.\n",
      "\n",
      " \n",
      "\n",
      "Successful candidates must be fully vaccinated against infection by COVID-19. Candidates who are unable to be vaccinated due to a personal characteristic protected under applicable human rights legislation may request to be exempt from this requirement. We will do our best to accommodate those who are unable to be vaccinated.\n",
      "\n",
      " \n",
      "\n",
      "Lifestyle\n",
      "\n",
      "At Teck, we have a variety of flexible schedules that can offer you a work life balance. Teck also offers the chance to live and work in some of the world’s most amazing locations where year-round local attractions and recreational choices are unlimited for the outdoor enthusiast! We have world-class mountain biking, skiing, hiking and fly fishing all at your doorstep.\n",
      "\n",
      "At Teck, we value diversity. Our teams work collaboratively and respect each person’s unique perspective and contribution.\n",
      "\n",
      " \n",
      "\n",
      "We wish to thank all applicants for their interest and effort in applying for the position; however, only candidates selected for interviews will be contacted.\n",
      "\n",
      "Teck is a diversified resource company committed to responsible mining and mineral development with major business units focused on copper, steelmaking coal and zinc, as well as investments in energy assets.\n",
      "\n",
      " \n",
      "\n",
      "Headquartered in Vancouver, Canada, its shares are listed on the Toronto Stock Exchange under the symbols TECK.A and TECK.B and the New York Stock Exchange under the symbol TECK. Learn more about Teck at www.teck.com or follow @TeckResources.\n",
      "\n",
      "\n",
      "Job Segment: Analytics, Database, Data Analyst, Engineer, Electrical, Management, Technology, Data, Engineering\n"
     ]
    }
   ],
   "source": [
    "#Store the job description in a variable\n",
    "job_description = docx2txt.process(\"job_description.docx\")\n",
    "\n",
    "#Print the job description\n",
    "print(job_description)"
   ]
  },
  {
   "cell_type": "code",
   "execution_count": 19,
   "metadata": {},
   "outputs": [],
   "source": [
    "#A list of text\n",
    "text = [resume, job_description]"
   ]
  },
  {
   "cell_type": "code",
   "execution_count": null,
   "metadata": {},
   "outputs": [],
   "source": []
  },
  {
   "cell_type": "code",
   "execution_count": 20,
   "metadata": {},
   "outputs": [],
   "source": [
    "\n",
    "from sklearn.feature_extraction.text import CountVectorizer\n",
    "cv = CountVectorizer()\n",
    "count_matrix = cv.fit_transform(text)\n"
   ]
  },
  {
   "cell_type": "code",
   "execution_count": 21,
   "metadata": {},
   "outputs": [
    {
     "name": "stdout",
     "output_type": "stream",
     "text": [
      "Similarity Scores:\n",
      "[[1.         0.48224112]\n",
      " [0.48224112 1.        ]]\n"
     ]
    }
   ],
   "source": [
    "from sklearn.metrics.pairwise import cosine_similarity\n",
    "\n",
    "#Print the cosine similarity\n",
    "print('Similarity Scores:')\n",
    "print(cosine_similarity(count_matrix, count_matrix))"
   ]
  },
  {
   "cell_type": "code",
   "execution_count": 22,
   "metadata": {},
   "outputs": [
    {
     "name": "stdout",
     "output_type": "stream",
     "text": [
      "Your resume matches the job description by 48.22%\n"
     ]
    }
   ],
   "source": [
    "#get the match percentage\n",
    "matchPercentage = cosine_similarity(count_matrix)[0][1] * 100\n",
    "matchPercentage = round(matchPercentage,2) #round to 2 decimal places\n",
    "print('Your resume matches the job description by ' + str(matchPercentage) + '%')\n"
   ]
  },
  {
   "cell_type": "code",
   "execution_count": null,
   "metadata": {},
   "outputs": [],
   "source": []
  }
 ],
 "metadata": {
  "interpreter": {
   "hash": "aee8b7b246df8f9039afb4144a1f6fd8d2ca17a180786b69acc140d282b71a49"
  },
  "kernelspec": {
   "display_name": "Python 3.9.7 64-bit",
   "language": "python",
   "name": "python3"
  },
  "language_info": {
   "codemirror_mode": {
    "name": "ipython",
    "version": 3
   },
   "file_extension": ".py",
   "mimetype": "text/x-python",
   "name": "python",
   "nbconvert_exporter": "python",
   "pygments_lexer": "ipython3",
   "version": "3.9.7"
  },
  "orig_nbformat": 4
 },
 "nbformat": 4,
 "nbformat_minor": 2
}
